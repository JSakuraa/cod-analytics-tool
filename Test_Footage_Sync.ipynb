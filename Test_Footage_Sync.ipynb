{
 "cells": [
  {
   "cell_type": "code",
   "execution_count": 2,
   "metadata": {},
   "outputs": [],
   "source": [
    "import cv2\n",
    "import pytesseract\n",
    "import subprocess"
   ]
  },
  {
   "cell_type": "code",
   "execution_count": 3,
   "metadata": {},
   "outputs": [],
   "source": [
    "LANDMARKS = [\"3\", \"2\", \"1\"]\n",
    "\n",
    "CROPS = {\n",
    "    \"countdown-crop\": {\n",
    "        \"CROP_X\": 800,\n",
    "        \"CROP_Y\": 200,\n",
    "        \"CROP_HEIGHT\": 200,\n",
    "        \"CROP_WIDTH\": 200\n",
    "    },\n",
    "    \"scoreboard-crop\": {\n",
    "        \"CROP_X\": 800,\n",
    "        \"CROP_Y\": 200,\n",
    "        \"CROP_HEIGHT\": 200,\n",
    "        \"CROP_WIDTH\": 200\n",
    "    },\n",
    "    \"minimap_crop\": {\n",
    "        \"CROP_X\": 800,\n",
    "        \"CROP_Y\": 200,\n",
    "        \"CROP_HEIGHT\": 200,\n",
    "        \"CROP_WIDTH\": 200\n",
    "    }\n",
    "}\n",
    "CROP_X, CROP_Y, CROP_WIDTH, CROP_HEIGHT = 800, 50, 200, 100"
   ]
  },
  {
   "cell_type": "code",
   "execution_count": null,
   "metadata": {},
   "outputs": [],
   "source": [
    "def extract_countdown(clip_path):\n",
    "    cap = cv2.VideoCapture(clip_path)\n",
    "    timestamps = []\n",
    "    fps = cap.get(cv2.CAP_PROP_FPS)  # noqa: F841\n",
    "\n",
    "    while True:\n",
    "\n",
    "        ret, frame = cap.read()\n",
    "\n",
    "        if not ret:\n",
    "            break\n",
    "\n",
    "        text = pytesseract.image_to_string(frame, config=\"--psm 6\")\n",
    "        if text.strip() in LANDMARKS:\n",
    "            timestamps.append(cap.get(cv2.CAP_PROP_POS_MSEC) / 1000)\n",
    "\n",
    "    cap.release()\n",
    "    return timestamps"
   ]
  },
  {
   "cell_type": "code",
   "execution_count": 5,
   "metadata": {},
   "outputs": [],
   "source": [
    "def sync_videos(player_timestamps, caster_timestamps, video_paths):\n",
    "    ref_time = min(caster_timestamps)\n",
    "\n",
    "    for i, times in enumerate(player_timestamps):\n",
    "        offset = min(times) - ref_time\n",
    "        if offset > 0:\n",
    "\n",
    "            output_path = f\"synced_player{i+1}.mp4\"\n",
    "            cmd = f\"ffmpeg -i video_paths[i] -ss {offset} -c copy {output_path}\"\n",
    "            subprocess.run(cmd, shell=True)\n",
    "            print(f\"Synced {video_paths[i]} to {output_path}\")"
   ]
  },
  {
   "cell_type": "code",
   "execution_count": null,
   "metadata": {},
   "outputs": [],
   "source": []
  }
 ],
 "metadata": {
  "kernelspec": {
   "display_name": ".venv",
   "language": "python",
   "name": "python3"
  },
  "language_info": {
   "codemirror_mode": {
    "name": "ipython",
    "version": 3
   },
   "file_extension": ".py",
   "mimetype": "text/x-python",
   "name": "python",
   "nbconvert_exporter": "python",
   "pygments_lexer": "ipython3",
   "version": "3.10.16"
  }
 },
 "nbformat": 4,
 "nbformat_minor": 2
}
