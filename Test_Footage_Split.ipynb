{
 "cells": [
  {
   "cell_type": "code",
   "execution_count": null,
   "metadata": {},
   "outputs": [],
   "source": [
    "import cv2\n",
    "import pytesseract\n",
    "\n",
    "video_path = \"./footage/raw/snd_uncut.mp4\"\n",
    "cap = cv2.VideoCapture(video_path)\n",
    "frame_rate = cap.get(cv2.CAP_PROP_FPS)\n",
    "\n",
    "success, frame = cap.read()\n",
    "while success:\n",
    "\n",
    "    success, frame = cap.read()\n",
    "    \n",
    "    text = pytesseract.image_to_string(frame)\n",
    "    if \"- Win\" in text:\n",
    "        print(\"End of round detected\")\n"
   ]
  },
  {
   "cell_type": "code",
   "execution_count": null,
   "metadata": {},
   "outputs": [],
   "source": []
  }
 ],
 "metadata": {
  "kernelspec": {
   "display_name": ".venv",
   "language": "python",
   "name": "python3"
  },
  "language_info": {
   "name": "python",
   "version": "3.10.16"
  }
 },
 "nbformat": 4,
 "nbformat_minor": 2
}
